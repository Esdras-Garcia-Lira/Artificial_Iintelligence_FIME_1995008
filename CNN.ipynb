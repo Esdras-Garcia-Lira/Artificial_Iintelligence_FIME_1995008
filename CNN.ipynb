{
  "cells": [
    {
      "cell_type": "markdown",
      "metadata": {
        "id": "view-in-github",
        "colab_type": "text"
      },
      "source": [
        "<a href=\"https://colab.research.google.com/github/Esdras-Garcia-Lira/Artificial_Iintelligence_FIME_1995008/blob/main/CNN.ipynb\" target=\"_parent\"><img src=\"https://colab.research.google.com/assets/colab-badge.svg\" alt=\"Open In Colab\"/></a>"
      ]
    },
    {
      "cell_type": "markdown",
      "metadata": {
        "id": "skpuSCiS-GDY"
      },
      "source": [
        "Assignment 7 - Convolutional Neural Network.\n",
        "\n",
        "Class Time: N4-N6 Thursday\n",
        "\n",
        "Team members:\n",
        "\n",
        "\n",
        "*   Aguilar López Sebastián Eucebio #1975946\n",
        "*   Garcia Lira Esdras #1995008\n",
        "*   Martínez Gámez América de los Ángeles #1933618\n",
        "*   Oliva Villarreal Angel #2004926"
      ]
    },
    {
      "cell_type": "markdown",
      "metadata": {
        "id": "l3xTorY2DDcc"
      },
      "source": [
        "*To train a convolutional neural network model.*\n",
        "\n"
      ]
    },
    {
      "cell_type": "markdown",
      "metadata": {
        "id": "Q0X52l6ADGWd"
      },
      "source": [
        "1. Load libraries."
      ]
    },
    {
      "cell_type": "code",
      "execution_count": null,
      "metadata": {
        "id": "9P39BdL8C95W"
      },
      "outputs": [],
      "source": [
        "# Load libraries\n",
        "import numpy as np\n",
        "import matplotlib.pyplot as plt\n",
        "from keras.datasets import mnist\n",
        "from keras.models import Sequential\n",
        "from keras.layers import Conv2D, MaxPooling2D, Flatten, Dense\n",
        "from keras.utils import to_categorical"
      ]
    },
    {
      "cell_type": "markdown",
      "metadata": {
        "id": "45xTXv3ODRe9"
      },
      "source": [
        "2. Load data."
      ]
    },
    {
      "cell_type": "code",
      "execution_count": null,
      "metadata": {
        "colab": {
          "base_uri": "https://localhost:8080/"
        },
        "id": "pMLOHSbiDUT1",
        "outputId": "64c5c4ce-f475-431b-8828-0783fc7173e9"
      },
      "outputs": [
        {
          "name": "stdout",
          "output_type": "stream",
          "text": [
            "Downloading data from https://storage.googleapis.com/tensorflow/tf-keras-datasets/mnist.npz\n",
            "\u001b[1m11490434/11490434\u001b[0m \u001b[32m━━━━━━━━━━━━━━━━━━━━\u001b[0m\u001b[37m\u001b[0m \u001b[1m0s\u001b[0m 0us/step\n"
          ]
        }
      ],
      "source": [
        "# Load the data\n",
        "(train_data, train_labels), (test_data, test_labels) = mnist.load_data()"
      ]
    },
    {
      "cell_type": "markdown",
      "metadata": {
        "id": "xvp4x0QZDVrE"
      },
      "source": [
        "3. Data preprocessing.\n"
      ]
    },
    {
      "cell_type": "code",
      "execution_count": null,
      "metadata": {
        "id": "gcMCHEw3DXG1"
      },
      "outputs": [],
      "source": [
        "# Normalize the data to a range of 0 to 1 and reshape for CNN input\n",
        "train_data = train_data.astype('float32') / 255.0\n",
        "test_data = test_data.astype('float32') / 255.0\n",
        "\n",
        "# Reshape the data to fit the model (adding channel dimension)\n",
        "train_data = train_data.reshape((train_data.shape[0], 28, 28, 1))\n",
        "test_data = test_data.reshape((test_data.shape[0], 28, 28, 1))\n",
        "\n",
        "# Convert labels to categorical format\n",
        "train_labels = to_categorical(train_labels, num_classes=10)\n",
        "test_labels = to_categorical(test_labels, num_classes=10)"
      ]
    },
    {
      "cell_type": "markdown",
      "metadata": {
        "id": "wp8MjGAUDYcc"
      },
      "source": [
        "4. Model selection and training.\n"
      ]
    },
    {
      "cell_type": "code",
      "execution_count": null,
      "metadata": {
        "colab": {
          "background_save": true,
          "base_uri": "https://localhost:8080/"
        },
        "id": "gBtqd2hRDZzE",
        "outputId": "d7931a17-211e-4623-d59f-3429bd04704f"
      },
      "outputs": [
        {
          "name": "stderr",
          "output_type": "stream",
          "text": [
            "/usr/local/lib/python3.10/dist-packages/keras/src/layers/convolutional/base_conv.py:107: UserWarning: Do not pass an `input_shape`/`input_dim` argument to a layer. When using Sequential models, prefer using an `Input(shape)` object as the first layer in the model instead.\n",
            "  super().__init__(activity_regularizer=activity_regularizer, **kwargs)\n"
          ]
        },
        {
          "name": "stdout",
          "output_type": "stream",
          "text": [
            "Epoch 1/10\n",
            "\u001b[1m1875/1875\u001b[0m \u001b[32m━━━━━━━━━━━━━━━━━━━━\u001b[0m\u001b[37m\u001b[0m \u001b[1m44s\u001b[0m 23ms/step - accuracy: 0.9132 - loss: 0.2915\n",
            "Epoch 2/10\n",
            "\u001b[1m1875/1875\u001b[0m \u001b[32m━━━━━━━━━━━━━━━━━━━━\u001b[0m\u001b[37m\u001b[0m \u001b[1m81s\u001b[0m 22ms/step - accuracy: 0.9836 - loss: 0.0529\n",
            "Epoch 3/10\n",
            "\u001b[1m1875/1875\u001b[0m \u001b[32m━━━━━━━━━━━━━━━━━━━━\u001b[0m\u001b[37m\u001b[0m \u001b[1m81s\u001b[0m 21ms/step - accuracy: 0.9902 - loss: 0.0327\n",
            "Epoch 4/10\n",
            "\u001b[1m1875/1875\u001b[0m \u001b[32m━━━━━━━━━━━━━━━━━━━━\u001b[0m\u001b[37m\u001b[0m \u001b[1m40s\u001b[0m 22ms/step - accuracy: 0.9936 - loss: 0.0198\n",
            "Epoch 5/10\n",
            "\u001b[1m1875/1875\u001b[0m \u001b[32m━━━━━━━━━━━━━━━━━━━━\u001b[0m\u001b[37m\u001b[0m \u001b[1m38s\u001b[0m 20ms/step - accuracy: 0.9955 - loss: 0.0136\n",
            "Epoch 6/10\n",
            "\u001b[1m1875/1875\u001b[0m \u001b[32m━━━━━━━━━━━━━━━━━━━━\u001b[0m\u001b[37m\u001b[0m \u001b[1m42s\u001b[0m 21ms/step - accuracy: 0.9966 - loss: 0.0095\n",
            "Epoch 7/10\n",
            "\u001b[1m1875/1875\u001b[0m \u001b[32m━━━━━━━━━━━━━━━━━━━━\u001b[0m\u001b[37m\u001b[0m \u001b[1m39s\u001b[0m 21ms/step - accuracy: 0.9979 - loss: 0.0062\n",
            "Epoch 8/10\n",
            "\u001b[1m1875/1875\u001b[0m \u001b[32m━━━━━━━━━━━━━━━━━━━━\u001b[0m\u001b[37m\u001b[0m \u001b[1m41s\u001b[0m 21ms/step - accuracy: 0.9987 - loss: 0.0047\n",
            "Epoch 9/10\n",
            "\u001b[1m1875/1875\u001b[0m \u001b[32m━━━━━━━━━━━━━━━━━━━━\u001b[0m\u001b[37m\u001b[0m \u001b[1m44s\u001b[0m 22ms/step - accuracy: 0.9984 - loss: 0.0052\n",
            "Epoch 10/10\n",
            "\u001b[1m1875/1875\u001b[0m \u001b[32m━━━━━━━━━━━━━━━━━━━━\u001b[0m\u001b[37m\u001b[0m \u001b[1m81s\u001b[0m 22ms/step - accuracy: 0.9990 - loss: 0.0034\n"
          ]
        },
        {
          "data": {
            "text/plain": [
              "<keras.src.callbacks.history.History at 0x786a837db9a0>"
            ]
          },
          "execution_count": 4,
          "metadata": {},
          "output_type": "execute_result"
        }
      ],
      "source": [
        "# Create the Convolutional Neural Network model\n",
        "model = Sequential()\n",
        "\n",
        "# Add convolutional layer with 32 filters and a kernel size of (3,3)\n",
        "model.add(Conv2D(32, kernel_size=(3, 3), activation='relu', input_shape=(28, 28, 1)))\n",
        "\n",
        "# Add max pooling layer\n",
        "model.add(MaxPooling2D(pool_size=(2, 2)))\n",
        "\n",
        "# Flatten the output from the convolutional layers\n",
        "model.add(Flatten())\n",
        "\n",
        "# Add a dense hidden layer with 128 neurons and ReLU activation function\n",
        "model.add(Dense(128, activation='relu'))\n",
        "\n",
        "# Output layer with softmax activation function for multi-class classification\n",
        "model.add(Dense(10, activation='softmax'))\n",
        "\n",
        "# Compile the model\n",
        "model.compile(loss='categorical_crossentropy',\n",
        "              optimizer='adam',\n",
        "              metrics=['accuracy'])\n",
        "\n",
        "# Train the model with more epochs than the previous assignment for better performance\n",
        "model.fit(train_data, train_labels, epochs=10, batch_size=32)"
      ]
    },
    {
      "cell_type": "markdown",
      "metadata": {
        "id": "mBatsT_3Da5k"
      },
      "source": [
        "5. Model testing."
      ]
    },
    {
      "cell_type": "code",
      "execution_count": null,
      "metadata": {
        "id": "5Bc4DQeqDdf8"
      },
      "outputs": [],
      "source": [
        "# Evaluate the model's accuracy on the test set\n",
        "test_loss, test_accuracy = model.evaluate(test_data, test_labels)\n",
        "print(f'Model Accuracy: {test_accuracy:.2f}')\n",
        "\n",
        "# Make 5 predictions with the test dataset\n",
        "predictions = model.predict(test_data[:5])  # Predict the first 5 images\n",
        "\n",
        "# Display predictions and actual values\n",
        "for i in range(5):\n",
        "    predicted_label = np.argmax(predictions[i])\n",
        "    actual_label = np.argmax(test_labels[i])\n",
        "    print(f'Prediction: {predicted_label}, Actual value: {actual_label}')\n",
        "\n",
        "    # Visualize the image\n",
        "    plt.imshow(test_data[i].reshape(28, 28), cmap='gray')\n",
        "    plt.title(f'Prediction: {predicted_label}, Actual value: {actual_label}')\n",
        "    plt.axis('off')\n",
        "    plt.show()"
      ]
    },
    {
      "cell_type": "markdown",
      "metadata": {
        "id": "bMNTlbr6HpV2"
      },
      "source": [
        "# References:\n",
        "*   Matthes, E. (2023). Python crash course. No starch press.\n",
        "*   https://www.w3schools.com/python/default.asp\n",
        "*   Géron, A. (2022). Hands-on machine learning with Scikit-Learn, Keras, and TensorFlow. \" O'Reilly Media, Inc.\n",
        "*   https://www.tensorflow.org/tutorials/keras/classification\n"
      ]
    },
    {
      "cell_type": "markdown",
      "metadata": {
        "id": "WDxVr6GSKjm3"
      },
      "source": [
        "EXTRA PREGUNTAS:"
      ]
    },
    {
      "cell_type": "markdown",
      "metadata": {
        "id": "JpZ8BxM0Klze"
      },
      "source": [
        "Answers to Questions:\n",
        "\n",
        "1.   **How many epochs did you use to improve the performance of the model compared with the feedforward neural network of assignment 6?**\n",
        "\n",
        "  In this exercise, I used 10 epochs to train the Convolutional Neural Network (CNN) model. This is an increase compared to the previous assignment where I used only 5 epochs for training the feedforward neural network.\n",
        "\n",
        "2.   Did you get a better performance on this assignment or on assignment 6? Why?\n",
        "\n",
        "  Yes, I achieved better performance in this assignment using the CNN compared to the feedforward neural network from assignment 6. The reasons for this improvement include:\n",
        "  *   **Architecture**: CNNs are specifically designed for image data and can capture spatial hierarchies through convolutional layers. This allows them to learn more complex features compared to simple feedforward networks.\n",
        "\n",
        "  *   **Pooling Layers**: The inclusion of max pooling layers reduces dimensionality while preserving important features, which helps in improving generalization.\n",
        "\n",
        "  *  **Increased Epochs**: Training for more epochs allows the model to learn better\n",
        "\n",
        "Overall, these factors contribute significantly to improved accuracy when working with image datasets like MNIST."
      ]
    },
    {
      "cell_type": "code",
      "execution_count": null,
      "metadata": {
        "id": "mdN52-FOKlT4"
      },
      "outputs": [],
      "source": []
    }
  ],
  "metadata": {
    "colab": {
      "provenance": [],
      "include_colab_link": true
    },
    "kernelspec": {
      "display_name": "Python 3",
      "name": "python3"
    },
    "language_info": {
      "name": "python"
    }
  },
  "nbformat": 4,
  "nbformat_minor": 0
}