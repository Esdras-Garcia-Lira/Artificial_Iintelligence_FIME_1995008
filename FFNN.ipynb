{
  "nbformat": 4,
  "nbformat_minor": 0,
  "metadata": {
    "colab": {
      "provenance": [],
      "include_colab_link": true
    },
    "kernelspec": {
      "name": "python3",
      "display_name": "Python 3"
    },
    "language_info": {
      "name": "python"
    }
  },
  "cells": [
    {
      "cell_type": "markdown",
      "metadata": {
        "id": "view-in-github",
        "colab_type": "text"
      },
      "source": [
        "<a href=\"https://colab.research.google.com/github/MasterAsgard03/Artificial_Iintelligence_FIME_1995008/blob/main/FFNN.ipynb\" target=\"_parent\"><img src=\"https://colab.research.google.com/assets/colab-badge.svg\" alt=\"Open In Colab\"/></a>"
      ]
    },
    {
      "cell_type": "markdown",
      "source": [
        "Assignment 6 - Artificial Neural Network: Feedforward\n",
        "\n",
        "Team members:\n",
        "\n",
        "\n",
        "*   Aguilar López Sebastián Eucebio #1975946\n",
        "*   Angel Oliva Villarreal #2004926\n",
        "*   Garcia Lira Esdras #1995008\n",
        "*   Martínez Gámez América de los Ángeles #1933618"
      ],
      "metadata": {
        "id": "skpuSCiS-GDY"
      }
    },
    {
      "cell_type": "code",
      "source": [
        "import numpy as np\n",
        "import matplotlib.pyplot as plt\n",
        "from keras.datasets import mnist\n",
        "from keras.models import Sequential\n",
        "from keras.layers import Dense\n",
        "from keras.utils import to_categorical\n",
        "from sklearn.metrics import confusion_matrix\n",
        "import seaborn as sns\n",
        "\n",
        "# Load data\n",
        "(train_data, train_labels), (test_data, test_labels) = mnist.load_data()\n",
        "\n",
        "# Normalize the images\n",
        "train_data = train_data.reshape((train_data.shape[0], 28 * 28)).astype('float32') / 255\n",
        "test_data = test_data.reshape((test_data.shape[0], 28 * 28)).astype('float32') / 255\n",
        "\n",
        "# Encode labels\n",
        "train_labels = to_categorical(train_labels)\n",
        "test_labels = to_categorical(test_labels)\n",
        "\n",
        "# Model selection and training\n",
        "model = Sequential([\n",
        "    Dense(512, activation='relu', input_shape=(28 * 28,)),\n",
        "    Dense(10, activation='softmax')\n",
        "])\n",
        "\n",
        "model.compile(optimizer='rmsprop',\n",
        "              loss='categorical_crossentropy',\n",
        "              metrics=['accuracy'])\n",
        "\n",
        "history = model.fit(train_data, train_labels, epochs=5, batch_size=128, validation_data=(test_data, test_labels))\n",
        "\n",
        "# Plot training and validation accuracy\n",
        "plt.plot(history.history['accuracy'], label='Training Accuracy')\n",
        "plt.plot(history.history['val_accuracy'], label='Validation Accuracy')\n",
        "plt.xlabel('Epoch')\n",
        "plt.ylabel('Accuracy')\n",
        "plt.legend()\n",
        "plt.title('Training and Validation Accuracy')\n",
        "plt.show()\n",
        "\n",
        "# Plot training and validation loss\n",
        "plt.plot(history.history['loss'], label='Training Loss')\n",
        "plt.plot(history.history['val_loss'], label='Validation Loss')\n",
        "plt.xlabel('Epoch')\n",
        "plt.ylabel('Loss')\n",
        "plt.legend()\n",
        "plt.title('Training and Validation Loss')\n",
        "plt.show()"
      ],
      "metadata": {
        "id": "i7R_Sjpd-JPR"
      },
      "execution_count": null,
      "outputs": []
    }
  ]
}